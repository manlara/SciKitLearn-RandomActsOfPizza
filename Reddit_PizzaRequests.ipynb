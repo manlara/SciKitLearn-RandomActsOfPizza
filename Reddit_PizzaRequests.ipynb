{
 "cells": [
  {
   "cell_type": "code",
   "execution_count": 16,
   "metadata": {
    "collapsed": true
   },
   "outputs": [],
   "source": [
    "%matplotlib inline"
   ]
  },
  {
   "cell_type": "code",
   "execution_count": 17,
   "metadata": {
    "collapsed": false
   },
   "outputs": [],
   "source": [
    "import pandas as pd\n",
    "import numpy as np\n",
    "import glob\n",
    "import json, re\n",
    "import time\n",
    "from dateutil.parser import parse\n",
    "import requests, zipfile, StringIO "
   ]
  },
  {
   "cell_type": "markdown",
   "metadata": {},
   "source": [
    "### Read json into Pandas DataFrame"
   ]
  },
  {
   "cell_type": "code",
   "execution_count": 18,
   "metadata": {
    "collapsed": false
   },
   "outputs": [],
   "source": [
    "df_pizza = pd.read_json(\"../pizza_request_dataset/pizza_request_dataset.json\")"
   ]
  },
  {
   "cell_type": "code",
   "execution_count": 19,
   "metadata": {
    "collapsed": false
   },
   "outputs": [
    {
     "data": {
      "text/html": [
       "<div>\n",
       "<table border=\"1\" class=\"dataframe\">\n",
       "  <thead>\n",
       "    <tr style=\"text-align: right;\">\n",
       "      <th></th>\n",
       "      <th>giver_username_if_known</th>\n",
       "      <th>in_test_set</th>\n",
       "      <th>number_of_downvotes_of_request_at_retrieval</th>\n",
       "      <th>number_of_upvotes_of_request_at_retrieval</th>\n",
       "      <th>post_was_edited</th>\n",
       "      <th>request_id</th>\n",
       "      <th>request_number_of_comments_at_retrieval</th>\n",
       "      <th>request_text</th>\n",
       "      <th>request_text_edit_aware</th>\n",
       "      <th>request_title</th>\n",
       "      <th>...</th>\n",
       "      <th>requester_received_pizza</th>\n",
       "      <th>requester_subreddits_at_request</th>\n",
       "      <th>requester_upvotes_minus_downvotes_at_request</th>\n",
       "      <th>requester_upvotes_minus_downvotes_at_retrieval</th>\n",
       "      <th>requester_upvotes_plus_downvotes_at_request</th>\n",
       "      <th>requester_upvotes_plus_downvotes_at_retrieval</th>\n",
       "      <th>requester_user_flair</th>\n",
       "      <th>requester_username</th>\n",
       "      <th>unix_timestamp_of_request</th>\n",
       "      <th>unix_timestamp_of_request_utc</th>\n",
       "    </tr>\n",
       "  </thead>\n",
       "  <tbody>\n",
       "    <tr>\n",
       "      <th>0</th>\n",
       "      <td>N/A</td>\n",
       "      <td>False</td>\n",
       "      <td>2</td>\n",
       "      <td>6</td>\n",
       "      <td>0</td>\n",
       "      <td>t3_w5491</td>\n",
       "      <td>7</td>\n",
       "      <td>I'm not in College, or a starving artist or an...</td>\n",
       "      <td>I'm not in College, or a starving artist or an...</td>\n",
       "      <td>[Request] Ontario, Canada - On my 3rd of 5 day...</td>\n",
       "      <td>...</td>\n",
       "      <td>True</td>\n",
       "      <td>[AdviceAnimals, WTF, funny, gaming, movies, te...</td>\n",
       "      <td>32</td>\n",
       "      <td>212</td>\n",
       "      <td>48</td>\n",
       "      <td>610</td>\n",
       "      <td>shroom</td>\n",
       "      <td>RitalinYourMemory</td>\n",
       "      <td>1341604684</td>\n",
       "      <td>1341601084</td>\n",
       "    </tr>\n",
       "    <tr>\n",
       "      <th>1</th>\n",
       "      <td>N/A</td>\n",
       "      <td>False</td>\n",
       "      <td>2</td>\n",
       "      <td>6</td>\n",
       "      <td>1</td>\n",
       "      <td>t3_qysgy</td>\n",
       "      <td>8</td>\n",
       "      <td>Hello! It's been a hard 2 months with money an...</td>\n",
       "      <td>Hello! It's been a hard 2 months with money an...</td>\n",
       "      <td>[REQUEST] Southern Arizona, Tucson Hungry Family</td>\n",
       "      <td>...</td>\n",
       "      <td>True</td>\n",
       "      <td>[aww, pics]</td>\n",
       "      <td>5</td>\n",
       "      <td>21</td>\n",
       "      <td>13</td>\n",
       "      <td>57</td>\n",
       "      <td>shroom</td>\n",
       "      <td>blubirdhvn</td>\n",
       "      <td>1331868375</td>\n",
       "      <td>1331864775</td>\n",
       "    </tr>\n",
       "    <tr>\n",
       "      <th>2</th>\n",
       "      <td>N/A</td>\n",
       "      <td>False</td>\n",
       "      <td>1</td>\n",
       "      <td>4</td>\n",
       "      <td>1</td>\n",
       "      <td>t3_if0ed</td>\n",
       "      <td>1</td>\n",
       "      <td>I'm sure there are needier people on this subr...</td>\n",
       "      <td>I'm sure there are needier people on this subr...</td>\n",
       "      <td>[Request] Pizza for a broke college student</td>\n",
       "      <td>...</td>\n",
       "      <td>True</td>\n",
       "      <td>[AskReddit, DoesAnybodyElse, IAmA, Marijuana, ...</td>\n",
       "      <td>1359</td>\n",
       "      <td>2110</td>\n",
       "      <td>2423</td>\n",
       "      <td>3456</td>\n",
       "      <td>shroom</td>\n",
       "      <td>taterpot</td>\n",
       "      <td>1309622289</td>\n",
       "      <td>1309618689</td>\n",
       "    </tr>\n",
       "  </tbody>\n",
       "</table>\n",
       "<p>3 rows × 33 columns</p>\n",
       "</div>"
      ],
      "text/plain": [
       "  giver_username_if_known in_test_set  \\\n",
       "0                     N/A       False   \n",
       "1                     N/A       False   \n",
       "2                     N/A       False   \n",
       "\n",
       "   number_of_downvotes_of_request_at_retrieval  \\\n",
       "0                                            2   \n",
       "1                                            2   \n",
       "2                                            1   \n",
       "\n",
       "   number_of_upvotes_of_request_at_retrieval  post_was_edited request_id  \\\n",
       "0                                          6                0   t3_w5491   \n",
       "1                                          6                1   t3_qysgy   \n",
       "2                                          4                1   t3_if0ed   \n",
       "\n",
       "   request_number_of_comments_at_retrieval  \\\n",
       "0                                        7   \n",
       "1                                        8   \n",
       "2                                        1   \n",
       "\n",
       "                                        request_text  \\\n",
       "0  I'm not in College, or a starving artist or an...   \n",
       "1  Hello! It's been a hard 2 months with money an...   \n",
       "2  I'm sure there are needier people on this subr...   \n",
       "\n",
       "                             request_text_edit_aware  \\\n",
       "0  I'm not in College, or a starving artist or an...   \n",
       "1  Hello! It's been a hard 2 months with money an...   \n",
       "2  I'm sure there are needier people on this subr...   \n",
       "\n",
       "                                       request_title  \\\n",
       "0  [Request] Ontario, Canada - On my 3rd of 5 day...   \n",
       "1   [REQUEST] Southern Arizona, Tucson Hungry Family   \n",
       "2        [Request] Pizza for a broke college student   \n",
       "\n",
       "               ...                requester_received_pizza  \\\n",
       "0              ...                                    True   \n",
       "1              ...                                    True   \n",
       "2              ...                                    True   \n",
       "\n",
       "                     requester_subreddits_at_request  \\\n",
       "0  [AdviceAnimals, WTF, funny, gaming, movies, te...   \n",
       "1                                        [aww, pics]   \n",
       "2  [AskReddit, DoesAnybodyElse, IAmA, Marijuana, ...   \n",
       "\n",
       "   requester_upvotes_minus_downvotes_at_request  \\\n",
       "0                                            32   \n",
       "1                                             5   \n",
       "2                                          1359   \n",
       "\n",
       "   requester_upvotes_minus_downvotes_at_retrieval  \\\n",
       "0                                             212   \n",
       "1                                              21   \n",
       "2                                            2110   \n",
       "\n",
       "   requester_upvotes_plus_downvotes_at_request  \\\n",
       "0                                           48   \n",
       "1                                           13   \n",
       "2                                         2423   \n",
       "\n",
       "   requester_upvotes_plus_downvotes_at_retrieval  requester_user_flair  \\\n",
       "0                                            610                shroom   \n",
       "1                                             57                shroom   \n",
       "2                                           3456                shroom   \n",
       "\n",
       "   requester_username  unix_timestamp_of_request  \\\n",
       "0   RitalinYourMemory                 1341604684   \n",
       "1          blubirdhvn                 1331868375   \n",
       "2            taterpot                 1309622289   \n",
       "\n",
       "   unix_timestamp_of_request_utc  \n",
       "0                     1341601084  \n",
       "1                     1331864775  \n",
       "2                     1309618689  \n",
       "\n",
       "[3 rows x 33 columns]"
      ]
     },
     "execution_count": 19,
     "metadata": {},
     "output_type": "execute_result"
    }
   ],
   "source": [
    "df_pizza[:3]"
   ]
  },
  {
   "cell_type": "markdown",
   "metadata": {},
   "source": [
    "### Split data into test and training sets"
   ]
  },
  {
   "cell_type": "code",
   "execution_count": 20,
   "metadata": {
    "collapsed": false
   },
   "outputs": [
    {
     "name": "stdout",
     "output_type": "stream",
     "text": [
      "Train Set: 71.239640%\n",
      "Test Set: 28.760360%\n"
     ]
    }
   ],
   "source": [
    "df_pizza_test  = df_pizza[df_pizza['in_test_set']==True]\n",
    "df_pizza_train = df_pizza[df_pizza['in_test_set']==False]\n",
    "n_in_test_set  = float(len(df_pizza_test))/float(len(df_pizza))*100\n",
    "n_in_train_set = float(len(df_pizza_train))/float(len(df_pizza))*100\n",
    "print (\"Train Set: %f%%\" % (n_in_train_set))\n",
    "print (\"Test Set: %f%%\" % (n_in_test_set))"
   ]
  },
  {
   "cell_type": "code",
   "execution_count": 21,
   "metadata": {
    "collapsed": false
   },
   "outputs": [
    {
     "name": "stdout",
     "output_type": "stream",
     "text": [
      "Success rates (Test): 24.71%\n",
      "Success rates (Development): 24.60%\n"
     ]
    }
   ],
   "source": [
    "# Average succes rates\n",
    "received_test  = df_pizza_test[df_pizza_test[\"requester_received_pizza\"]==True][\"requester_received_pizza\"].count()\n",
    "received_train = df_pizza_train[df_pizza_train[\"requester_received_pizza\"]==True][\"requester_received_pizza\"].count()\n",
    "print (\"Success rates (Test): %0.2f%%\" % (float(received_test)/float(len(df_pizza_test))*100))\n",
    "print (\"Success rates (Development): %0.2f%%\" % (float(received_train)/float(len(df_pizza_train))*100))"
   ]
  },
  {
   "cell_type": "code",
   "execution_count": 8,
   "metadata": {
    "collapsed": false
   },
   "outputs": [
    {
     "data": {
      "text/html": [
       "<div>\n",
       "<table border=\"1\" class=\"dataframe\">\n",
       "  <thead>\n",
       "    <tr style=\"text-align: right;\">\n",
       "      <th></th>\n",
       "      <th></th>\n",
       "      <th>number_of_upvotes_of_request_at_retrieval</th>\n",
       "    </tr>\n",
       "    <tr>\n",
       "      <th>requester_received_pizza</th>\n",
       "      <th></th>\n",
       "      <th></th>\n",
       "    </tr>\n",
       "  </thead>\n",
       "  <tbody>\n",
       "    <tr>\n",
       "      <th rowspan=\"8\" valign=\"top\">False</th>\n",
       "      <th>count</th>\n",
       "      <td>3046.000000</td>\n",
       "    </tr>\n",
       "    <tr>\n",
       "      <th>mean</th>\n",
       "      <td>5.553513</td>\n",
       "    </tr>\n",
       "    <tr>\n",
       "      <th>std</th>\n",
       "      <td>9.784824</td>\n",
       "    </tr>\n",
       "    <tr>\n",
       "      <th>min</th>\n",
       "      <td>0.000000</td>\n",
       "    </tr>\n",
       "    <tr>\n",
       "      <th>25%</th>\n",
       "      <td>2.000000</td>\n",
       "    </tr>\n",
       "    <tr>\n",
       "      <th>50%</th>\n",
       "      <td>4.000000</td>\n",
       "    </tr>\n",
       "    <tr>\n",
       "      <th>75%</th>\n",
       "      <td>6.000000</td>\n",
       "    </tr>\n",
       "    <tr>\n",
       "      <th>max</th>\n",
       "      <td>345.000000</td>\n",
       "    </tr>\n",
       "    <tr>\n",
       "      <th rowspan=\"8\" valign=\"top\">True</th>\n",
       "      <th>count</th>\n",
       "      <td>994.000000</td>\n",
       "    </tr>\n",
       "    <tr>\n",
       "      <th>mean</th>\n",
       "      <td>8.101610</td>\n",
       "    </tr>\n",
       "    <tr>\n",
       "      <th>std</th>\n",
       "      <td>13.085617</td>\n",
       "    </tr>\n",
       "    <tr>\n",
       "      <th>min</th>\n",
       "      <td>0.000000</td>\n",
       "    </tr>\n",
       "    <tr>\n",
       "      <th>25%</th>\n",
       "      <td>3.000000</td>\n",
       "    </tr>\n",
       "    <tr>\n",
       "      <th>50%</th>\n",
       "      <td>5.000000</td>\n",
       "    </tr>\n",
       "    <tr>\n",
       "      <th>75%</th>\n",
       "      <td>9.000000</td>\n",
       "    </tr>\n",
       "    <tr>\n",
       "      <th>max</th>\n",
       "      <td>276.000000</td>\n",
       "    </tr>\n",
       "  </tbody>\n",
       "</table>\n",
       "</div>"
      ],
      "text/plain": [
       "                                number_of_upvotes_of_request_at_retrieval\n",
       "requester_received_pizza                                                 \n",
       "False                    count                                3046.000000\n",
       "                         mean                                    5.553513\n",
       "                         std                                     9.784824\n",
       "                         min                                     0.000000\n",
       "                         25%                                     2.000000\n",
       "                         50%                                     4.000000\n",
       "                         75%                                     6.000000\n",
       "                         max                                   345.000000\n",
       "True                     count                                 994.000000\n",
       "                         mean                                    8.101610\n",
       "                         std                                    13.085617\n",
       "                         min                                     0.000000\n",
       "                         25%                                     3.000000\n",
       "                         50%                                     5.000000\n",
       "                         75%                                     9.000000\n",
       "                         max                                   276.000000"
      ]
     },
     "execution_count": 8,
     "metadata": {},
     "output_type": "execute_result"
    }
   ],
   "source": [
    "grouped_by = df_pizza_train.groupby(\"requester_received_pizza\")[[\"number_of_upvotes_of_request_at_retrieval\"]]\n",
    "grouped_by.describe()"
   ]
  },
  {
   "cell_type": "code",
   "execution_count": 22,
   "metadata": {
    "collapsed": false
   },
   "outputs": [
    {
     "data": {
      "text/plain": [
       "0    1341601084\n",
       "1    1331864775\n",
       "2    1309618689\n",
       "Name: unix_timestamp_of_request_utc, dtype: int64"
      ]
     },
     "execution_count": 22,
     "metadata": {},
     "output_type": "execute_result"
    }
   ],
   "source": [
    "df_pizza_train[df_pizza_train[\"requester_received_pizza\"]==True][\"unix_timestamp_of_request_utc\"][:3]"
   ]
  },
  {
   "cell_type": "code",
   "execution_count": 23,
   "metadata": {
    "collapsed": false
   },
   "outputs": [
    {
     "data": {
      "text/plain": [
       "0   2012-07-06 14:58:04\n",
       "1   2012-03-15 22:26:15\n",
       "2   2011-07-02 10:58:09\n",
       "Name: unix_timestamp_of_request_utc, dtype: datetime64[ns]"
      ]
     },
     "execution_count": 23,
     "metadata": {},
     "output_type": "execute_result"
    }
   ],
   "source": [
    "import datetime\n",
    "df_pizza_train[\"unix_timestamp_of_request_utc\"].apply(datetime.datetime.fromtimestamp)[:3]"
   ]
  },
  {
   "cell_type": "code",
   "execution_count": 24,
   "metadata": {
    "collapsed": false
   },
   "outputs": [
    {
     "name": "stderr",
     "output_type": "stream",
     "text": [
      "/anaconda/lib/python2.7/site-packages/IPython/kernel/__main__.py:1: SettingWithCopyWarning: \n",
      "A value is trying to be set on a copy of a slice from a DataFrame.\n",
      "Try using .loc[row_indexer,col_indexer] = value instead\n",
      "\n",
      "See the the caveats in the documentation: http://pandas.pydata.org/pandas-docs/stable/indexing.html#indexing-view-versus-copy\n",
      "  if __name__ == '__main__':\n"
     ]
    }
   ],
   "source": [
    "df_pizza_train[\"unix_timestamp_of_request_readable\"] = df_pizza_train[\"unix_timestamp_of_request_utc\"].apply(datetime.datetime.fromtimestamp)"
   ]
  },
  {
   "cell_type": "code",
   "execution_count": 25,
   "metadata": {
    "collapsed": false
   },
   "outputs": [
    {
     "data": {
      "text/plain": [
       "0   2012-07-06 14:58:04\n",
       "1   2012-03-15 22:26:15\n",
       "2   2011-07-02 10:58:09\n",
       "Name: unix_timestamp_of_request_readable, dtype: datetime64[ns]"
      ]
     },
     "execution_count": 25,
     "metadata": {},
     "output_type": "execute_result"
    }
   ],
   "source": [
    "df_pizza_train[\"unix_timestamp_of_request_readable\"][:3]"
   ]
  },
  {
   "cell_type": "code",
   "execution_count": 26,
   "metadata": {
    "collapsed": false
   },
   "outputs": [
    {
     "name": "stderr",
     "output_type": "stream",
     "text": [
      "/anaconda/lib/python2.7/site-packages/IPython/kernel/__main__.py:2: SettingWithCopyWarning: \n",
      "A value is trying to be set on a copy of a slice from a DataFrame.\n",
      "Try using .loc[row_indexer,col_indexer] = value instead\n",
      "\n",
      "See the the caveats in the documentation: http://pandas.pydata.org/pandas-docs/stable/indexing.html#indexing-view-versus-copy\n",
      "  from IPython.kernel.zmq import kernelapp as app\n"
     ]
    }
   ],
   "source": [
    "#df_answer_posts[\"PostHour\"] = pd.Series(pd.DatetimeIndex(df_answer_posts.PostDate).hour)\n",
    "df_pizza_train[\"RequestHour\"] = pd.Series(pd.DatetimeIndex(df_pizza_train[\"unix_timestamp_of_request_readable\"]).hour)"
   ]
  },
  {
   "cell_type": "code",
   "execution_count": 27,
   "metadata": {
    "collapsed": false
   },
   "outputs": [
    {
     "data": {
      "text/plain": [
       "<matplotlib.axes._subplots.AxesSubplot at 0x11a6ad290>"
      ]
     },
     "execution_count": 27,
     "metadata": {},
     "output_type": "execute_result"
    },
    {
     "data": {
      "image/png": "[encoded data removed]",
      "text/plain": [
       "<matplotlib.figure.Figure at 0x115a63490>"
      ]
     },
     "metadata": {},
     "output_type": "display_data"
    }
   ],
   "source": [
    "grouped_by_hour = df_pizza_train[\"unix_timestamp_of_request_readable\"].groupby([df_pizza_train[\"RequestHour\"], df_pizza_train[\"requester_received_pizza\"]])\n",
    "result = grouped_by_hour.apply(lambda x: x.count()).unstack(\"requester_received_pizza\")\n",
    "result.plot()\n",
    "#result = grouped_by_hour.describe()\n",
    "#result.unstack(\"requester_received_pizza\")\n",
    "#grouped_by_hour.count().plot()\n",
    "#responsetime_plot = (grouped_by_hour.max()-grouped_by_hour.min()).plot().set_ylabel(\"Response Hour\")"
   ]
  },
  {
   "cell_type": "code",
   "execution_count": 28,
   "metadata": {
    "collapsed": false
   },
   "outputs": [
    {
     "data": {
      "text/plain": [
       "[u'starving artist anything bit unlucky year guy job rent month account banking fee bag afternoon fine point food something bus advance',\n",
       " u'money craigslist food money family bread anyone family time reading plea Edit family pizza',\n",
       " u'subreddit rest share rent yesterday friday housemate lent dinner advance make awesome place EDIT liter coke']"
      ]
     },
     "execution_count": 28,
     "metadata": {},
     "output_type": "execute_result"
    }
   ],
   "source": [
    "import nltk\n",
    "train_nouns = []\n",
    "for text in df_pizza_train[\"request_text\"]:\n",
    "    tok_text = nltk.word_tokenize(text)\n",
    "    pos_text = nltk.pos_tag(tok_text)\n",
    "    text_array = []\n",
    "    for word, pos in pos_text:\n",
    "        if pos=='NN':\n",
    "            text_array.append(word)\n",
    "    noun = \" \".join(text_array)\n",
    "    train_nouns.append(noun)\n",
    "train_nouns[:3]"
   ]
  },
  {
   "cell_type": "code",
   "execution_count": 39,
   "metadata": {
    "collapsed": false
   },
   "outputs": [
    {
     "data": {
      "text/plain": [
       "[u'exchange sending damnedest likeness body sharpie cash loss part something art student drawing everything power very animal idea face stranger contort part fun',\n",
       " u'super recession waitress restaurant na day week position food random pizza something stale box wheat boyfriend home EDIT week',\n",
       " u'spending half universe sense today phone week success story http right ol pizza time']"
      ]
     },
     "execution_count": 39,
     "metadata": {},
     "output_type": "execute_result"
    }
   ],
   "source": [
    "test_nouns = []\n",
    "for text in df_pizza_test[\"request_text\"]:\n",
    "    tok_text = nltk.word_tokenize(text)\n",
    "    pos_text = nltk.pos_tag(tok_text)\n",
    "    text_array = []\n",
    "    for word, pos in pos_text:\n",
    "        if pos=='NN':\n",
    "            text_array.append(word)\n",
    "    noun = \" \".join(text_array)\n",
    "    test_nouns.append(noun)\n",
    "test_nouns[:3]"
   ]
  },
  {
   "cell_type": "code",
   "execution_count": 29,
   "metadata": {
    "collapsed": false
   },
   "outputs": [
    {
     "name": "stdout",
     "output_type": "stream",
     "text": [
      "Loading dataset and extracting TF-IDF features...\n",
      "done in 0.143s.\n",
      "Fitting the NMF model with n_samples=2000 and n_features=1000...\n",
      "done in 7.083s.\n"
     ]
    }
   ],
   "source": [
    "#Topic extraction with non-negative matrix factorization\n",
    "# Author: Olivier Grisel <olivier.grisel@ensta.org>\n",
    "#         Lars Buitinck <L.J.Buitinck@uva.nl>\n",
    "# License: BSD 3 clause\n",
    "\n",
    "from __future__ import print_function\n",
    "from time import time\n",
    "\n",
    "import nltk\n",
    "from sklearn.feature_extraction.text import TfidfVectorizer\n",
    "from sklearn.decomposition import NMF\n",
    "from sklearn.datasets import fetch_20newsgroups\n",
    "\n",
    "\n",
    "n_samples = 2000\n",
    "n_features = 1000\n",
    "n_topics = 50\n",
    "n_top_words = 100\n",
    "\n",
    "t0 = time()\n",
    "print(\"Loading dataset and extracting TF-IDF features...\")\n",
    "\n",
    "# Extract only nouns from text\n",
    "dataset = train_nouns\n",
    "\n",
    "vectorizer = TfidfVectorizer(max_df=0.95, min_df=2, max_features=n_features,\n",
    "                             stop_words='english', strip_accents='unicode')\n",
    "tfidf = vectorizer.fit_transform(dataset)\n",
    "print(\"done in %0.3fs.\" % (time() - t0))\n",
    "\n",
    "# Fit the NMF model\n",
    "print(\"Fitting the NMF model with n_samples=%d and n_features=%d...\"\n",
    "      % (n_samples, n_features))\n",
    "nmf = NMF(init='nndsvd', n_components=n_topics, random_state=1).fit(tfidf)\n",
    "print(\"done in %0.3fs.\" % (time() - t0))\n",
    "\n",
    "feature_names = vectorizer.get_feature_names()\n",
    "\n",
    "topics = []\n",
    "for topic_idx, topic in enumerate(nmf.components_):\n",
    "    topics.append(\" \".join([feature_names[i]\n",
    "                    for i in topic.argsort()[:-n_top_words - 1:-1]]))\n",
    "    #print(\"Topic #%d:\" % topic_idx)\n",
    "    #print(topics[-1])\n",
    "    #print()\n"
   ]
  },
  {
   "cell_type": "code",
   "execution_count": 34,
   "metadata": {
    "collapsed": false
   },
   "outputs": [
    {
     "name": "stdout",
     "output_type": "stream",
     "text": [
      "Topic #0:\n",
      "job interview luck unemployment lot wife rice check feet life summer boss finding opportunity head debt hunt idea start living wage training half income state temp offer guitar yesterday tuna guy retail phone looking er city point credit try dude avail miracle reading row redditor market restaurant age feeling bunch dad test bike forward shit morning mac mother kindness end dream artist book cheer experience partner blessing wedding past eat pepperoni position thursday conversation bless apartment ate community left economy alot household course worse office use motivation anxiety service stamp halfway nightmare longer date board resume bday contractor season gas\n",
      "\n",
      "Topic #1:\n",
      "job interview luck unemployment lot wife rice check feet life summer boss finding opportunity head debt hunt idea start living wage training half income state temp offer guitar yesterday tuna guy retail phone looking er city point credit try dude avail miracle reading row redditor market restaurant age feeling bunch dad test bike forward shit morning mac mother kindness end dream artist book cheer experience partner blessing wedding past eat pepperoni position thursday conversation bless apartment ate community left economy alot household course worse office use motivation anxiety service stamp halfway nightmare longer date board resume bday contractor season gas\n",
      "\n",
      "Topic #2:\n",
      "job interview luck unemployment lot wife rice check feet life summer boss finding opportunity head debt hunt idea start living wage training half income state temp offer guitar yesterday tuna guy retail phone looking er city point credit try dude avail miracle reading row redditor market restaurant age feeling bunch dad test bike forward shit morning mac mother kindness end dream artist book cheer experience partner blessing wedding past eat pepperoni position thursday conversation bless apartment ate community left economy alot household course worse office use motivation anxiety service stamp halfway nightmare longer date board resume bday contractor season gas\n",
      "\n"
     ]
    }
   ],
   "source": [
    "for x in range(3):\n",
    "    print(\"Topic #%d:\" % x)\n",
    "    print(topics[-1])\n",
    "    print()"
   ]
  },
  {
   "cell_type": "code",
   "execution_count": 35,
   "metadata": {
    "collapsed": false
   },
   "outputs": [
    {
     "name": "stdout",
     "output_type": "stream",
     "text": [
      "(4040, 1000)\n",
      "(4040, 1000)\n"
     ]
    }
   ],
   "source": [
    "from sklearn.feature_extraction.text import TfidfTransformer \n",
    "tfidf_transformer = TfidfTransformer()\n",
    "X_train_tfidf = tfidf_transformer.fit_transform(tfidf)\n",
    "\n",
    "print (tfidf.shape)\n",
    "print (X_train_tfidf.shape)"
   ]
  },
  {
   "cell_type": "code",
   "execution_count": 36,
   "metadata": {
    "collapsed": false
   },
   "outputs": [
    {
     "data": {
      "text/plain": [
       "MultinomialNB(alpha=1.0, class_prior=None, fit_prior=True)"
      ]
     },
     "execution_count": 36,
     "metadata": {},
     "output_type": "execute_result"
    }
   ],
   "source": [
    "y_train_target = df_pizza_train.requester_received_pizza\n",
    "from sklearn.naive_bayes import MultinomialNB\n",
    "clf = MultinomialNB()\n",
    "clf.fit(X_train_tfidf, y_train_target)"
   ]
  },
  {
   "cell_type": "code",
   "execution_count": 40,
   "metadata": {
    "collapsed": false
   },
   "outputs": [],
   "source": [
    "X_test = vectorizer.fit_transform(test_nouns)\n",
    "X_test_tfidf = tfidf_transformer.transform(X_test)"
   ]
  },
  {
   "cell_type": "code",
   "execution_count": 41,
   "metadata": {
    "collapsed": false
   },
   "outputs": [],
   "source": [
    "predicted = clf.predict(X_test_tfidf) "
   ]
  },
  {
   "cell_type": "code",
   "execution_count": 42,
   "metadata": {
    "collapsed": false
   },
   "outputs": [
    {
     "name": "stdout",
     "output_type": "stream",
     "text": [
      "[False False False ..., False False False]\n"
     ]
    },
    {
     "data": {
      "text/plain": [
       "0.72103004291845496"
      ]
     },
     "execution_count": 42,
     "metadata": {},
     "output_type": "execute_result"
    }
   ],
   "source": [
    "print (predicted)\n",
    "y_test_target = df_pizza_test.requester_received_pizza\n",
    "np.mean(predicted == y_test_target)  "
   ]
  },
  {
   "cell_type": "code",
   "execution_count": 45,
   "metadata": {
    "collapsed": true
   },
   "outputs": [],
   "source": [
    "from sklearn import metrics "
   ]
  },
  {
   "cell_type": "code",
   "execution_count": 58,
   "metadata": {
    "collapsed": false
   },
   "outputs": [
    {
     "data": {
      "text/plain": [
       "TfidfVectorizer(analyzer=u'word', binary=False, decode_error=u'strict',\n",
       "        dtype=<type 'numpy.int64'>, encoding=u'utf-8', input=u'content',\n",
       "        lowercase=True, max_df=0.95, max_features=1000, min_df=2,\n",
       "        ngram_range=(1, 1), norm=u'l2', preprocessor=None, smooth_idf=True,\n",
       "        stop_words='english', strip_accents=None, sublinear_tf=False,\n",
       "        token_pattern=u'(?u)\\\\b\\\\w\\\\w+\\\\b', tokenizer=None, use_idf=True,\n",
       "        vocabulary=None)"
      ]
     },
     "execution_count": 58,
     "metadata": {},
     "output_type": "execute_result"
    }
   ],
   "source": [
    "#print (pd.Series(vectorizer.vocabulary_))\n",
    "#vectorizer.vocabulary_.get(u'ability')\n",
    "vectorizer"
   ]
  },
  {
   "cell_type": "code",
   "execution_count": 51,
   "metadata": {
    "collapsed": false
   },
   "outputs": [
    {
     "data": {
      "text/plain": [
       "0    I'm not in College, or a starving artist or an...\n",
       "1    Hello! It's been a hard 2 months with money an...\n",
       "2    I'm sure there are needier people on this subr...\n",
       "Name: request_text, dtype: object"
      ]
     },
     "execution_count": 51,
     "metadata": {},
     "output_type": "execute_result"
    }
   ],
   "source": [
    "df_pizza_train[\"request_text\"][:3]"
   ]
  },
  {
   "cell_type": "code",
   "execution_count": 52,
   "metadata": {
    "collapsed": false
   },
   "outputs": [],
   "source": [
    "received_a_pizza = []\n",
    "for text in df_pizza_train[\"request_text\"]:\n",
    "    counter = 0\n",
    "    for key in topics[3].split():\n",
    "        if key in text:\n",
    "            counter = 1\n",
    "    received_a_pizza.append(counter)"
   ]
  },
  {
   "cell_type": "code",
   "execution_count": 53,
   "metadata": {
    "collapsed": false
   },
   "outputs": [
    {
     "data": {
      "text/plain": [
       "3542"
      ]
     },
     "execution_count": 53,
     "metadata": {},
     "output_type": "execute_result"
    }
   ],
   "source": [
    "pd.Series(received_a_pizza).sum()"
   ]
  },
  {
   "cell_type": "code",
   "execution_count": 54,
   "metadata": {
    "collapsed": false
   },
   "outputs": [
    {
     "data": {
      "text/plain": [
       "4040"
      ]
     },
     "execution_count": 54,
     "metadata": {},
     "output_type": "execute_result"
    }
   ],
   "source": [
    "len(df_pizza_train)"
   ]
  },
  {
   "cell_type": "code",
   "execution_count": 63,
   "metadata": {
    "collapsed": false
   },
   "outputs": [
    {
     "data": {
      "text/plain": [
       "(4040, 1000)"
      ]
     },
     "execution_count": 63,
     "metadata": {},
     "output_type": "execute_result"
    }
   ],
   "source": [
    "vectorizer = TfidfVectorizer(max_df=0.95, min_df=2, max_features=n_features,\n",
    "                             stop_words='english')\n",
    "vectors = vectorizer.fit_transform(df_pizza_train[\"request_text\"])\n",
    "vectors.shape"
   ]
  },
  {
   "cell_type": "code",
   "execution_count": 64,
   "metadata": {
    "collapsed": false
   },
   "outputs": [
    {
     "data": {
      "text/plain": [
       "22.80519801980198"
      ]
     },
     "execution_count": 64,
     "metadata": {},
     "output_type": "execute_result"
    }
   ],
   "source": [
    "vectors.nnz / float(vectors.shape[0]) "
   ]
  },
  {
   "cell_type": "code",
   "execution_count": 65,
   "metadata": {
    "collapsed": false
   },
   "outputs": [
    {
     "data": {
      "text/plain": [
       "4040    'Sright. In exchange for sending me pizza, I w...\n",
       "4041    She lives in Round Lake Beach, Illinois, which...\n",
       "4042    After spending two and a half months unemploye...\n",
       "Name: request_text, dtype: object"
      ]
     },
     "execution_count": 65,
     "metadata": {},
     "output_type": "execute_result"
    }
   ],
   "source": [
    "df_pizza_test[\"request_text\"][:3]"
   ]
  },
  {
   "cell_type": "code",
   "execution_count": 67,
   "metadata": {
    "collapsed": false
   },
   "outputs": [],
   "source": [
    "request_text_test = df_pizza_test[\"request_text\"]\n",
    "vectorizer2 = TfidfVectorizer(max_df=0.95, min_df=2, max_features=n_features,\n",
    "                             stop_words='english')\n",
    "tfidf2 = vectorizer2.fit_transform(request_text_test.dropna())\n",
    "#vectorizer.fit_transform(request_text)\n",
    "#nmf.transform(df_pizza_test[\"request_text\"])"
   ]
  },
  {
   "cell_type": "code",
   "execution_count": 68,
   "metadata": {
    "collapsed": false
   },
   "outputs": [
    {
     "data": {
      "text/plain": [
       "array([[ 0.00041882,  0.00092844,  0.00124943, ...,  0.00086949,\n",
       "         0.00193698,  0.0005337 ],\n",
       "       [ 0.00032713, -0.        , -0.        , ...,  0.00295789,\n",
       "         0.00256286,  0.00233939],\n",
       "       [ 0.00023951,  0.0004359 ,  0.00086895, ...,  0.00218263,\n",
       "         0.00126268, -0.        ],\n",
       "       ..., \n",
       "       [ 0.0001262 , -0.        , -0.        , ...,  0.00034102,\n",
       "         0.00041555, -0.        ],\n",
       "       [ 0.00041201, -0.        ,  0.0003577 , ...,  0.00045122,\n",
       "         0.00088693,  0.00237658],\n",
       "       [ 0.00039754,  0.00629546,  0.00023761, ...,  0.0001637 ,\n",
       "        -0.        ,  0.001053  ]])"
      ]
     },
     "execution_count": 68,
     "metadata": {},
     "output_type": "execute_result"
    }
   ],
   "source": [
    "nmf.transform(tfidf2)"
   ]
  },
  {
   "cell_type": "code",
   "execution_count": 69,
   "metadata": {
    "collapsed": false
   },
   "outputs": [
    {
     "data": {
      "text/plain": [
       "[u'00', u'10', u'100']"
      ]
     },
     "execution_count": 69,
     "metadata": {},
     "output_type": "execute_result"
    }
   ],
   "source": [
    "vectorizer2.get_feature_names()[:3]"
   ]
  },
  {
   "cell_type": "code",
   "execution_count": null,
   "metadata": {
    "collapsed": false
   },
   "outputs": [],
   "source": []
  },
  {
   "cell_type": "code",
   "execution_count": 70,
   "metadata": {
    "collapsed": false
   },
   "outputs": [],
   "source": [
    "import nltk"
   ]
  },
  {
   "cell_type": "code",
   "execution_count": 71,
   "metadata": {
    "collapsed": true
   },
   "outputs": [],
   "source": [
    "tokenization_pattern = r'''(?x)    # set flag to allow verbose regexps\n",
    "([A-Z]\\.)+        # abbreviations, e.g. U.S.A.\n",
    "| \\w+(-\\w+)*        # words with optional internal hyphens\n",
    "| \\$?\\d+(\\.\\d+)?%?  # currency and percentages, e.g. $12.40, 82%\n",
    "| \\w+[\\x90-\\xff]  # these are escaped emojis\n",
    "| [][.,;\"'?():-_`]  # these are separate tokens\n",
    "'''\n",
    "word_tokenizer = nltk.tokenize.regexp.RegexpTokenizer(tokenization_pattern)"
   ]
  },
  {
   "cell_type": "code",
   "execution_count": 72,
   "metadata": {
    "collapsed": false
   },
   "outputs": [
    {
     "data": {
      "text/plain": [
       "['At',\n",
       " 'eight',\n",
       " \"o'clock\",\n",
       " 'on',\n",
       " 'Thursday',\n",
       " 'morning',\n",
       " '...',\n",
       " 'Arthur',\n",
       " 'did',\n",
       " \"n't\",\n",
       " 'feel',\n",
       " 'very',\n",
       " 'good',\n",
       " '.']"
      ]
     },
     "execution_count": 72,
     "metadata": {},
     "output_type": "execute_result"
    }
   ],
   "source": [
    "sent_tokenizer = nltk.data.load('tokenizers/punkt/english.pickle') \n",
    "sentence = \"At eight o'clock on Thursday morning... Arthur didn't feel very good.\"\n",
    "tokens = nltk.word_tokenize(sentence)\n",
    "tokens"
   ]
  },
  {
   "cell_type": "code",
   "execution_count": 73,
   "metadata": {
    "collapsed": false
   },
   "outputs": [
    {
     "data": {
      "text/plain": [
       "[('And', 'CC'),\n",
       " ('now', 'RB'),\n",
       " ('for', 'IN'),\n",
       " ('something', 'NN'),\n",
       " ('completely', 'RB'),\n",
       " ('different', 'JJ'),\n",
       " ('.', '.'),\n",
       " ('Hi', 'NNP'),\n",
       " ('there', 'RB')]"
      ]
     },
     "execution_count": 73,
     "metadata": {},
     "output_type": "execute_result"
    }
   ],
   "source": [
    "text = nltk.word_tokenize(\"And now for something completely different. Hi there\")\n",
    "nltk.pos_tag(text) "
   ]
  },
  {
   "cell_type": "code",
   "execution_count": 76,
   "metadata": {
    "collapsed": false
   },
   "outputs": [
    {
     "name": "stdout",
     "output_type": "stream",
     "text": [
      "Punkt knows that the periods in Mr. Smith and Johann S. Bach\n",
      "    do not mark sentence boundaries.\n",
      "-----\n",
      "And sometimes sentences\n",
      "    can start with non-capitalized words.\n",
      "-----\n",
      "i is a good variable\n",
      "    name.\n",
      "-----\n",
      "...\n"
     ]
    }
   ],
   "source": [
    "import nltk.data\n",
    "text = '''\n",
    "    Punkt knows that the periods in Mr. Smith and Johann S. Bach\n",
    "    do not mark sentence boundaries.  And sometimes sentences\n",
    "    can start with non-capitalized words.  i is a good variable\n",
    "    name.\n",
    "... '''\n",
    "sent_detector = nltk.data.load('tokenizers/punkt/english.pickle')\n",
    "print('\\n-----\\n'.join(sent_detector.tokenize(text.strip())))"
   ]
  }
 ],
 "metadata": {
  "kernelspec": {
   "display_name": "Python 2",
   "language": "python",
   "name": "python2"
  },
  "language_info": {
   "codemirror_mode": {
    "name": "ipython",
    "version": 2
   },
   "file_extension": ".py",
   "mimetype": "text/x-python",
   "name": "python",
   "nbconvert_exporter": "python",
   "pygments_lexer": "ipython2",
   "version": "2.7.10"
  }
 },
 "nbformat": 4,
 "nbformat_minor": 0
}
